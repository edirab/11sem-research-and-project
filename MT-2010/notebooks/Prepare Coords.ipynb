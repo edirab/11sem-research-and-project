{
 "cells": [
  {
   "cell_type": "code",
   "execution_count": 10,
   "metadata": {},
   "outputs": [
    {
     "name": "stdout",
     "output_type": "stream",
     "text": [
      "E:\\University\\11sem\\nirs\\MT-2010\\notebooks\n"
     ]
    }
   ],
   "source": [
    "import os\n",
    "\n",
    "print(os.getcwd())"
   ]
  },
  {
   "cell_type": "code",
   "execution_count": 11,
   "metadata": {},
   "outputs": [
    {
     "name": "stdout",
     "output_type": "stream",
     "text": [
      "’ҐЄгй п Є®¤®ў п бва ­Ёж : 1251\n"
     ]
    }
   ],
   "source": [
    "!chcp 1251"
   ]
  },
  {
   "cell_type": "code",
   "execution_count": 12,
   "metadata": {},
   "outputs": [
    {
     "name": "stdout",
     "output_type": "stream",
     "text": [
      "\n",
      "(base) E:\\University\\11sem\\nirs\\MT-2010\\notebooks>IF \"..\\\\timeseries\" == \"-a\" (dir)  ELSE (IF \"..\\\\timeseries\" == \"-al\" (dir)  ELSE (dir ..\\\\timeseries     ) ) \n",
      " Том в устройстве E имеет метку Локальный диск\n",
      " Серийный номер тома: DA2A-2BF0\n",
      "\n",
      " Содержимое папки E:\\University\\11sem\\nirs\\MT-2010\\timeseries\n",
      "\n",
      "13.01.2021  20:54    <DIR>          .\n",
      "13.01.2021  20:54    <DIR>          ..\n",
      "13.01.2021  20:53           353 845 Time-X-Z-Yaw-2.csv\n",
      "13.01.2021  20:21           432 243 Time-X-Z-Yaw.xlsx\n",
      "               2 файлов        786 088 байт\n",
      "               2 папок  123 289 808 896 байт свободно\n"
     ]
    }
   ],
   "source": [
    "!ls ..\\\\timeseries"
   ]
  },
  {
   "cell_type": "code",
   "execution_count": 13,
   "metadata": {
    "scrolled": true
   },
   "outputs": [
    {
     "name": "stdout",
     "output_type": "stream",
     "text": [
      "['0;15;0;180\\n',\n",
      " '0,05;15;0;180,0004853\\n',\n",
      " '0,1;14,93501091;-4,77E-07;180,0004852\\n',\n",
      " '0,15;14,81660584;-1,35E-06;180,0004849\\n',\n",
      " '0,2;14,72978845;-1,98E-06;180,0004842\\n']\n",
      "8001\n",
      "\n",
      "0;15;0;180\n",
      "\n"
     ]
    }
   ],
   "source": [
    "from pprint import pprint\n",
    "\n",
    "data = open(\"../timeseries/Time-X-Z-Yaw-2.csv\")\n",
    "data = data.readlines()\n",
    "\n",
    "pprint(data[:5])\n",
    "print(len(data), end='\\n\\n')\n",
    "\n",
    "print(str(data[0]))"
   ]
  },
  {
   "cell_type": "code",
   "execution_count": 14,
   "metadata": {},
   "outputs": [],
   "source": [
    "\"Округляем до двух знаков по банковскому методу\"\n",
    "def round_2(x):\n",
    "    return round(float(x), 2)"
   ]
  },
  {
   "cell_type": "code",
   "execution_count": 15,
   "metadata": {},
   "outputs": [],
   "source": [
    "data2 = []\n",
    "\n",
    "\n",
    "\"\"\"\n",
    "1. Избавляемся от запятой, точки с запятой и символа переноса.\n",
    "2. Разбиваем по пробелам и округляем\n",
    "\"\"\"\n",
    "for i in  range(len(data)):\n",
    "    str_ = str(data[i])\n",
    "    str_ = str_.replace(\"\\n\", \"\")\n",
    "    str_ = str_.replace(\",\", \".\")\n",
    "    str_ = str_.replace(\";\", \" \")\n",
    "    #print(str_)\n",
    "    \n",
    "    num_list = list(map(float, str_.split()))\n",
    "    num_list = list(map(round_2, num_list))\n",
    "    #print(num_list)\n",
    "    data2.append(list(map(str, num_list)))"
   ]
  },
  {
   "cell_type": "code",
   "execution_count": 16,
   "metadata": {},
   "outputs": [
    {
     "name": "stdout",
     "output_type": "stream",
     "text": [
      "Type of elem: <class 'str'>\n",
      "[['0.0', '15.0', '0.0', '180.0'],\n",
      " ['0.05', '15.0', '0.0', '180.0'],\n",
      " ['0.1', '14.94', '-0.0', '180.0'],\n",
      " ['0.15', '14.82', '-0.0', '180.0'],\n",
      " ['0.2', '14.73', '-0.0', '180.0'],\n",
      " ['0.25', '14.62', '-0.0', '180.0'],\n",
      " ['0.3', '14.53', '-0.0', '180.0'],\n",
      " ['0.35', '14.46', '-0.0', '180.0'],\n",
      " ['0.4', '14.41', '-0.0', '180.0'],\n",
      " ['0.45', '14.33', '-0.0', '180.0'],\n",
      " ['0.5', '14.25', '-0.0', '180.0'],\n",
      " ['0.55', '14.2', '-0.0', '180.0'],\n",
      " ['0.6', '14.14', '-0.0', '180.0'],\n",
      " ['0.65', '14.08', '-0.0', '180.0'],\n",
      " ['0.7', '14.02', '-0.0', '180.0'],\n",
      " ['0.75', '13.98', '-0.0', '180.0']]\n",
      "8001\n",
      "\n",
      "[['0.0', '15.0', '0.0', '180.0'],\n",
      " ['0.4', '14.41', '-0.0', '180.0'],\n",
      " ['0.8', '13.93', '-0.0', '180.0'],\n",
      " ['1.2', '13.67', '-0.0', '180.0'],\n",
      " ['1.6', '13.53', '-0.0', '180.0'],\n",
      " ['2.0', '13.41', '-0.0', '180.0'],\n",
      " ['2.4', '13.21', '0.0', '179.55'],\n",
      " ['2.8', '13.15', '0.0', '174.39'],\n",
      " ['3.2', '13.21', '-0.01', '163.62'],\n",
      " ['3.6', '13.33', '-0.06', '149.89'],\n",
      " ['4.0', '13.44', '-0.15', '135.05'],\n",
      " ['4.4', '13.53', '-0.26', '119.85'],\n",
      " ['4.8', '13.58', '-0.39', '104.53'],\n",
      " ['5.2', '13.6', '-0.57', '89.18'],\n",
      " ['5.6', '13.57', '-0.76', '74.21'],\n",
      " ['6.0', '13.52', '-0.88', '60.37']]\n",
      "1001\n",
      "\n"
     ]
    }
   ],
   "source": [
    "print(\"Type of elem:\", type(data2[0][0]))\n",
    "pprint(data2[:16])\n",
    "print(len(data2), end=\"\\n\\n\")\n",
    "\n",
    "data3 = data2[::8]\n",
    "pprint(data3[:16])\n",
    "print(len(data3), end=\"\\n\\n\")"
   ]
  },
  {
   "cell_type": "code",
   "execution_count": 17,
   "metadata": {},
   "outputs": [
    {
     "name": "stdout",
     "output_type": "stream",
     "text": [
      "('0.0 15.0 0.0 180.0\\n'\n",
      " '0.05 15.0 0.0 180.0\\n'\n",
      " '0.1 14.94 -0.0 180.0\\n'\n",
      " '0.15 14.82 -0.0 180.0\\n'\n",
      " '0.2 14.73 -0.0 180.0\\n'\n",
      " '0.25 14.62 -0.0 180.0\\n'\n",
      " '0.3 14.53 -0.0 180.0\\n'\n",
      " '0.35 14.46 -0.0 180.0\\n'\n",
      " '0.4 14.41 -0.0 180.0\\n'\n",
      " '0.45 14.33 -0.0 180.0\\n'\n",
      " '0.5 14.25 -0.0 180.0\\n'\n",
      " '0.55 14.2 -0.0 180.0\\n'\n",
      " '0.6 14.14 -0.0 180.0\\n'\n",
      " '0.65 14.08 -0.0 180.0\\n'\n",
      " '0.7 14.02 -0.0 180.0\\n'\n",
      " '0.75 13.98 -0.0 180.0\\n'\n",
      " '0.8 13.93 -0.0 180.0\\n'\n",
      " '0.85 13.9 -0.0 180.0\\n'\n",
      " '0.9 13.86 -0.0 180.0\\n'\n",
      " '0.95 13.83 -0.0 180.0\\n'\n",
      " '1.0 13.8 -0.0 180.0\\n'\n",
      " '1.05 13.77 -0.0 180.0\\n'\n",
      " '1.1 13.74 -0.0 180.0\\n'\n",
      " '1.15 13.7 -0.0 180.0\\n'\n",
      " '1.2 13.67 -0.0 180.0\\n'\n",
      " '1.25 13.64 -0.0 180.0\\n'\n",
      " '1.3 13.62 -0.0 180.0\\n'\n",
      " '1.35 13.61 -0.0 180.0\\n'\n",
      " '1.4 13.59 -0.0 180.0\\n'\n",
      " '1.45 13.58 -0.0 180.0\\n'\n",
      " '1.5 13.56 -0.0 180.0\\n'\n",
      " '1.55 13.55 -0.0 180.0\\n'\n",
      " '1.6 13.53 -0.0 180.0\\n'\n",
      " '1.65 13.51 -0.0 180.0\\n'\n",
      " '1.7 13.5 -0.0 180.0\\n'\n",
      " '1.75 13.48 -0.0 180.0\\n'\n",
      " '1.8 13.47 -0.0 180.0\\n'\n",
      " '1.85 13.45 -0.0 180.0\\n'\n",
      " '1.9 13.44 -0.0 180.0\\n'\n",
      " '1.95 13.42 -0.0 180.0\\n'\n",
      " '2.0 13.41 -0.0 180.0\\n'\n",
      " '2.05 13.39 -0.0 180.0\\n'\n",
      " '2.1 13.38 -0.0 180.0\\n'\n",
      " '2.15 13.36 -0.0 180.0\\n'\n",
      " '2.2 13.31 -0.0 180.0\\n'\n",
      " '2.25 13.28 0.0 179.97\\n'\n",
      " '2.3 13.26 0.0 179.89')\n"
     ]
    }
   ],
   "source": [
    "output = \"\"\n",
    "for elem in data2:\n",
    "    output += \" \".join(elem)\n",
    "    output += '\\n'\n",
    "\n",
    "f = open(\"coords-2.dat\", 'w')\n",
    "f.write(output)\n",
    "\n",
    "    \n",
    "#output = str(data2)\n",
    "pprint(output[:1000])"
   ]
  },
  {
   "cell_type": "code",
   "execution_count": 18,
   "metadata": {},
   "outputs": [
    {
     "name": "stdout",
     "output_type": "stream",
     "text": [
      "Help on built-in function floor in module math:\n",
      "\n",
      "floor(x, /)\n",
      "    Return the floor of x as an Integral.\n",
      "    \n",
      "    This is the largest integer <= x.\n",
      "\n",
      "Help on built-in function round in module builtins:\n",
      "\n",
      "round(number, ndigits=None)\n",
      "    Round a number to a given precision in decimal digits.\n",
      "    \n",
      "    The return value is an integer if ndigits is omitted or None.  Otherwise\n",
      "    the return value has the same type as the number.  ndigits may be negative.\n",
      "\n",
      "2\n",
      "2\n",
      "3\n"
     ]
    }
   ],
   "source": [
    "import math\n",
    "\n",
    "help(math.floor)\n",
    "help(round)\n",
    "\n",
    "print(round(2.4))\n",
    "print(round(2.5))\n",
    "print(round(2.6))"
   ]
  }
 ],
 "metadata": {
  "kernelspec": {
   "display_name": "Python [conda env:root]",
   "language": "python",
   "name": "conda-root-py"
  },
  "language_info": {
   "codemirror_mode": {
    "name": "ipython",
    "version": 3
   },
   "file_extension": ".py",
   "mimetype": "text/x-python",
   "name": "python",
   "nbconvert_exporter": "python",
   "pygments_lexer": "ipython3",
   "version": "3.8.5"
  }
 },
 "nbformat": 4,
 "nbformat_minor": 4
}
