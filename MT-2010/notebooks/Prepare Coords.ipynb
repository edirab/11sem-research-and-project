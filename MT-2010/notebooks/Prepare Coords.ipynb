{
 "cells": [
  {
   "cell_type": "code",
   "execution_count": 11,
   "metadata": {},
   "outputs": [
    {
     "name": "stdout",
     "output_type": "stream",
     "text": [
      "E:\\University\\11sem\\nirs\\MT-2010\\notebooks\n"
     ]
    }
   ],
   "source": [
    "import os\n",
    "\n",
    "print(os.getcwd())"
   ]
  },
  {
   "cell_type": "code",
   "execution_count": 12,
   "metadata": {},
   "outputs": [],
   "source": [
    "#!chcp 1251"
   ]
  },
  {
   "cell_type": "code",
   "execution_count": 13,
   "metadata": {},
   "outputs": [
    {
     "name": "stdout",
     "output_type": "stream",
     "text": [
      "\n",
      "(base) E:\\University\\11sem\\nirs\\MT-2010\\notebooks>IF \"..\\\\timeseries\" == \"-a\" (dir)  ELSE (IF \"..\\\\timeseries\" == \"-al\" (dir)  ELSE (dir ..\\\\timeseries     ) ) \n",
      " Том в устройстве E имеет метку Локальный диск\n",
      " Серийный номер тома: DA2A-2BF0\n",
      "\n",
      " Содержимое папки E:\\University\\11sem\\nirs\\MT-2010\\timeseries\n",
      "\n",
      "13.01.2021  21:56    <DIR>          .\n",
      "13.01.2021  21:56    <DIR>          ..\n",
      "13.01.2021  21:56           353 810 111.csv\n",
      "13.01.2021  21:55           768 512 111.xls\n",
      "13.01.2021  21:52           768 512 Time-X-Z-Yaw.csv\n",
      "               3 файлов      1 890 834 байт\n",
      "               2 папок  123 284 029 440 байт свободно\n"
     ]
    }
   ],
   "source": [
    "!ls ..\\\\timeseries"
   ]
  },
  {
   "cell_type": "code",
   "execution_count": 14,
   "metadata": {
    "scrolled": true
   },
   "outputs": [
    {
     "name": "stdout",
     "output_type": "stream",
     "text": [
      "['п»ї0;15;0;180\\n',\n",
      " '0,05;15;0;180,0004853\\n',\n",
      " '0,1;14,93501091;-4,77422E-07;180,0004852\\n',\n",
      " '0,15;14,81660584;-1,34685E-06;180,0004849\\n',\n",
      " '0,2;14,72978845;-1,9835E-06;180,0004842\\n']\n",
      "8001\n",
      "\n",
      "п»ї0;15;0;180\n",
      "\n"
     ]
    }
   ],
   "source": [
    "from pprint import pprint\n",
    "\n",
    "#data = open(\"../timeseries/Time-X-Z-Yaw.csv\")\n",
    "data = open(\"../timeseries/111.csv\")\n",
    "data = data.readlines()\n",
    "\n",
    "pprint(data[:5])\n",
    "print(len(data), end='\\n\\n')\n",
    "\n",
    "print(str(data[0]))"
   ]
  },
  {
   "cell_type": "code",
   "execution_count": 15,
   "metadata": {},
   "outputs": [],
   "source": [
    "\"Округляем до двух знаков по банковскому методу\"\n",
    "def round_2(x):\n",
    "    return round(float(x), 2)"
   ]
  },
  {
   "cell_type": "code",
   "execution_count": 16,
   "metadata": {},
   "outputs": [
    {
     "ename": "ValueError",
     "evalue": "could not convert string to float: 'п»ї0'",
     "output_type": "error",
     "traceback": [
      "\u001b[1;31m---------------------------------------------------------------------------\u001b[0m",
      "\u001b[1;31mValueError\u001b[0m                                Traceback (most recent call last)",
      "\u001b[1;32m<ipython-input-16-e2f9b67cc1ad>\u001b[0m in \u001b[0;36m<module>\u001b[1;34m\u001b[0m\n\u001b[0;32m     13\u001b[0m     \u001b[1;31m#print(str_)\u001b[0m\u001b[1;33m\u001b[0m\u001b[1;33m\u001b[0m\u001b[1;33m\u001b[0m\u001b[0m\n\u001b[0;32m     14\u001b[0m \u001b[1;33m\u001b[0m\u001b[0m\n\u001b[1;32m---> 15\u001b[1;33m     \u001b[0mnum_list\u001b[0m \u001b[1;33m=\u001b[0m \u001b[0mlist\u001b[0m\u001b[1;33m(\u001b[0m\u001b[0mmap\u001b[0m\u001b[1;33m(\u001b[0m\u001b[0mfloat\u001b[0m\u001b[1;33m,\u001b[0m \u001b[0mstr_\u001b[0m\u001b[1;33m.\u001b[0m\u001b[0msplit\u001b[0m\u001b[1;33m(\u001b[0m\u001b[1;33m)\u001b[0m\u001b[1;33m)\u001b[0m\u001b[1;33m)\u001b[0m\u001b[1;33m\u001b[0m\u001b[1;33m\u001b[0m\u001b[0m\n\u001b[0m\u001b[0;32m     16\u001b[0m     \u001b[0mnum_list\u001b[0m \u001b[1;33m=\u001b[0m \u001b[0mlist\u001b[0m\u001b[1;33m(\u001b[0m\u001b[0mmap\u001b[0m\u001b[1;33m(\u001b[0m\u001b[0mround_2\u001b[0m\u001b[1;33m,\u001b[0m \u001b[0mnum_list\u001b[0m\u001b[1;33m)\u001b[0m\u001b[1;33m)\u001b[0m\u001b[1;33m\u001b[0m\u001b[1;33m\u001b[0m\u001b[0m\n\u001b[0;32m     17\u001b[0m     \u001b[1;31m#print(num_list)\u001b[0m\u001b[1;33m\u001b[0m\u001b[1;33m\u001b[0m\u001b[1;33m\u001b[0m\u001b[0m\n",
      "\u001b[1;31mValueError\u001b[0m: could not convert string to float: 'п»ї0'"
     ]
    }
   ],
   "source": [
    "data2 = []\n",
    "\n",
    "\n",
    "\"\"\"\n",
    "1. Избавляемся от запятой, точки с запятой и символа переноса.\n",
    "2. Разбиваем по пробелам и округляем\n",
    "\"\"\"\n",
    "for i in  range(len(data)):\n",
    "    str_ = str(data[i])\n",
    "    str_ = str_.replace(\"\\n\", \"\")\n",
    "    str_ = str_.replace(\",\", \".\")\n",
    "    str_ = str_.replace(\";\", \" \")\n",
    "    #print(str_)\n",
    "    \n",
    "    num_list = list(map(float, str_.split()))\n",
    "    num_list = list(map(round_2, num_list))\n",
    "    #print(num_list)\n",
    "    data2.append(list(map(str, num_list)))"
   ]
  },
  {
   "cell_type": "code",
   "execution_count": null,
   "metadata": {},
   "outputs": [],
   "source": [
    "print(\"Type of elem:\", type(data2[0][0]))\n",
    "pprint(data2[:16])\n",
    "print(len(data2), end=\"\\n\\n\")\n",
    "\n",
    "data3 = data2[::8]\n",
    "pprint(data3[:16])\n",
    "print(len(data3), end=\"\\n\\n\")"
   ]
  },
  {
   "cell_type": "code",
   "execution_count": null,
   "metadata": {},
   "outputs": [],
   "source": [
    "output = \"\"\n",
    "for elem in data2:\n",
    "    output += \" \".join(elem)\n",
    "    output += '\\n'\n",
    "\n",
    "f = open(\"coords.dat\", 'w')\n",
    "f.write(output)\n",
    "\n",
    "    \n",
    "#output = str(data2)\n",
    "pprint(output[:1000])"
   ]
  },
  {
   "cell_type": "code",
   "execution_count": null,
   "metadata": {},
   "outputs": [],
   "source": [
    "import math\n",
    "\n",
    "help(math.floor)\n",
    "help(round)\n",
    "\n",
    "print(round(2.4))\n",
    "print(round(2.5))\n",
    "print(round(2.6))"
   ]
  }
 ],
 "metadata": {
  "kernelspec": {
   "display_name": "Python [conda env:root]",
   "language": "python",
   "name": "conda-root-py"
  },
  "language_info": {
   "codemirror_mode": {
    "name": "ipython",
    "version": 3
   },
   "file_extension": ".py",
   "mimetype": "text/x-python",
   "name": "python",
   "nbconvert_exporter": "python",
   "pygments_lexer": "ipython3",
   "version": "3.8.5"
  }
 },
 "nbformat": 4,
 "nbformat_minor": 4
}
