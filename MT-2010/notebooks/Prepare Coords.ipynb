{
 "cells": [
  {
   "cell_type": "code",
   "execution_count": 2,
   "metadata": {},
   "outputs": [
    {
     "name": "stdout",
     "output_type": "stream",
     "text": [
      "E:\\University\\11sem\\nirs\\galtel\\notebooks\n"
     ]
    }
   ],
   "source": [
    "import os\n",
    "\n",
    "print(os.getcwd())"
   ]
  },
  {
   "cell_type": "code",
   "execution_count": 8,
   "metadata": {},
   "outputs": [
    {
     "name": "stdout",
     "output_type": "stream",
     "text": [
      "’ҐЄгй п Є®¤®ў п бва ­Ёж : 1251\n"
     ]
    }
   ],
   "source": [
    "!chcp 1251"
   ]
  },
  {
   "cell_type": "code",
   "execution_count": 9,
   "metadata": {},
   "outputs": [
    {
     "name": "stdout",
     "output_type": "stream",
     "text": [
      "\n",
      "(base) E:\\University\\11sem\\nirs\\galtel\\notebooks>IF \"..\\\\timeseries\" == \"-a\" (dir)  ELSE (IF \"..\\\\timeseries\" == \"-al\" (dir)  ELSE (dir ..\\\\timeseries     ) ) \n",
      " Том в устройстве E имеет метку Локальный диск\n",
      " Серийный номер тома: DA2A-2BF0\n",
      "\n",
      " Содержимое папки E:\\University\\11sem\\nirs\\galtel\\timeseries\n",
      "\n",
      "09.12.2020  13:48    <DIR>          .\n",
      "09.12.2020  13:48    <DIR>          ..\n",
      "09.12.2020  13:48           353 069 Time-X-Z-Yaw.csv\n",
      "09.12.2020  13:48           431 373 Time-X-Z-Yaw.xlsx\n",
      "               2 файлов        784 442 байт\n",
      "               2 папок  115 158 040 576 байт свободно\n"
     ]
    }
   ],
   "source": [
    "!ls ..\\\\timeseries"
   ]
  },
  {
   "cell_type": "code",
   "execution_count": 44,
   "metadata": {
    "scrolled": true
   },
   "outputs": [
    {
     "name": "stdout",
     "output_type": "stream",
     "text": [
      "['0;15;0;180\\n',\n",
      " '0,05;15;0;180,0004853\\n',\n",
      " '0,1;14,84982097;0,000321549;179,5458773\\n',\n",
      " '0,15;14,76843792;0,00283291;176,8225162\\n',\n",
      " '0,2;14,69484308;0,011380426;170,7344995\\n']\n",
      "8001\n",
      "\n",
      "0;15;0;180\n",
      "\n"
     ]
    }
   ],
   "source": [
    "from pprint import pprint\n",
    "\n",
    "data = open(\"../timeseries/Time-X-Z-Yaw.csv\")\n",
    "data = data.readlines()\n",
    "\n",
    "pprint(data[:5])\n",
    "print(len(data), end='\\n\\n')\n",
    "\n",
    "print(str(data[0]))"
   ]
  },
  {
   "cell_type": "code",
   "execution_count": 45,
   "metadata": {},
   "outputs": [],
   "source": [
    "\"Округляем до двух знаков по банковскому методу\"\n",
    "def round_2(x):\n",
    "    return round(float(x), 2)"
   ]
  },
  {
   "cell_type": "code",
   "execution_count": 56,
   "metadata": {},
   "outputs": [],
   "source": [
    "data2 = []\n",
    "\n",
    "\n",
    "\"\"\"\n",
    "1. Избавляемся от запятой, точки с запятой и символа переноса.\n",
    "2. Разбиваем по пробелам и округляем\n",
    "\"\"\"\n",
    "for i in  range(len(data)):\n",
    "    str_ = str(data[i])\n",
    "    str_ = str_.replace(\"\\n\", \"\")\n",
    "    str_ = str_.replace(\",\", \".\")\n",
    "    str_ = str_.replace(\";\", \" \")\n",
    "    #print(str_)\n",
    "    \n",
    "    num_list = list(map(float, str_.split()))\n",
    "    num_list = list(map(round_2, num_list))\n",
    "    #print(num_list)\n",
    "    data2.append(list(map(str, num_list)))"
   ]
  },
  {
   "cell_type": "code",
   "execution_count": 58,
   "metadata": {},
   "outputs": [
    {
     "name": "stdout",
     "output_type": "stream",
     "text": [
      "Type of elem: <class 'str'>\n",
      "[['0.0', '15.0', '0.0', '180.0'],\n",
      " ['0.05', '15.0', '0.0', '180.0'],\n",
      " ['0.1', '14.85', '0.0', '179.55'],\n",
      " ['0.15', '14.77', '0.0', '176.82'],\n",
      " ['0.2', '14.69', '0.01', '170.73'],\n",
      " ['0.25', '14.63', '0.03', '161.23'],\n",
      " ['0.3', '14.59', '0.05', '148.84'],\n",
      " ['0.35', '14.55', '0.08', '134.6'],\n",
      " ['0.4', '14.53', '0.11', '119.54'],\n",
      " ['0.45', '14.52', '0.14', '104.59'],\n",
      " ['0.5', '14.52', '0.16', '90.51'],\n",
      " ['0.55', '14.52', '0.18', '77.81'],\n",
      " ['0.6', '14.52', '0.19', '66.81'],\n",
      " ['0.65', '14.53', '0.2', '57.6'],\n",
      " ['0.7', '14.53', '0.21', '50.1'],\n",
      " ['0.75', '14.53', '0.21', '44.17']]\n",
      "8001\n",
      "\n",
      "[['0.0', '15.0', '0.0', '180.0'],\n",
      " ['0.4', '14.53', '0.11', '119.54'],\n",
      " ['0.8', '14.53', '0.2', '39.49'],\n",
      " ['1.2', '14.37', '0.12', '22.03'],\n",
      " ['1.6', '14.13', '0.05', '11.48'],\n",
      " ['2.0', '13.9', '0.01', '5.87'],\n",
      " ['2.4', '13.66', '-0.0', '2.84'],\n",
      " ['2.8', '13.42', '-0.01', '0.89'],\n",
      " ['3.2', '13.1', '0.03', '329.58'],\n",
      " ['3.6', '13.05', '0.11', '232.96'],\n",
      " ['4.0', '12.94', '0.03', '205.82'],\n",
      " ['4.4', '12.76', '-0.03', '194.22'],\n",
      " ['4.8', '12.54', '-0.08', '189.09'],\n",
      " ['5.2', '12.3', '-0.11', '187.08'],\n",
      " ['5.6', '12.05', '-0.14', '186.2'],\n",
      " ['6.0', '11.81', '-0.16', '185.84']]\n",
      "1001\n",
      "\n"
     ]
    }
   ],
   "source": [
    "print(\"Type of elem:\", type(data2[0][0]))\n",
    "pprint(data2[:16])\n",
    "print(len(data2), end=\"\\n\\n\")\n",
    "\n",
    "data3 = data2[::8]\n",
    "pprint(data3[:16])\n",
    "print(len(data3), end=\"\\n\\n\")"
   ]
  },
  {
   "cell_type": "code",
   "execution_count": 64,
   "metadata": {},
   "outputs": [
    {
     "name": "stdout",
     "output_type": "stream",
     "text": [
      "('0.0 15.0 0.0 180.0\\n'\n",
      " '0.05 15.0 0.0 180.0\\n'\n",
      " '0.1 14.85 0.0 179.55\\n'\n",
      " '0.15 14.77 0.0 176.82\\n'\n",
      " '0.2 14.69 0.01 170.73\\n'\n",
      " '0.25 14.63 0.03 161.23\\n'\n",
      " '0.3 14.59 0.05 148.84\\n'\n",
      " '0.35 14.55 0.08 134.6\\n'\n",
      " '0.4 14.53 0.11 119.54\\n'\n",
      " '0.45 14.52 0.14 104.59\\n'\n",
      " '0.5 14.52 0.16 90.51\\n'\n",
      " '0.55 14.52 0.18 77.81\\n'\n",
      " '0.6 14.52 0.19 66.81\\n'\n",
      " '0.65 14.53 0.2 57.6\\n'\n",
      " '0.7 14.53 0.21 50.1\\n'\n",
      " '0.75 14.53 0.21 44.17\\n'\n",
      " '0.8 14.53 0.2 39.49\\n'\n",
      " '0.85 14.52 0.19 35.84\\n'\n",
      " '0.9 14.5 0.19 32.97\\n'\n",
      " '0.95 14.48 0.17 30.63\\n'\n",
      " '1.0 14.47 0.16 28.65\\n'\n",
      " '1.05 14.45 0.16 26.87\\n'\n",
      " '1.1 14.42 0.14 25.21\\n'\n",
      " '1.15 14.4 0.13 23.6\\n'\n",
      " '1.2 14.37 0.12 22.03\\n'\n",
      " '1.25 14.34 0.11 20.48\\n'\n",
      " '1.3 14.31 0.1 18.98\\n'\n",
      " '1.35 14.28 0.09 17.52\\n'\n",
      " '1.4 14.23 0.07 16.13\\n'\n",
      " '1.45 14.2 0.06 14.83\\n'\n",
      " '1.5 14.18 0.06 13.62\\n'\n",
      " '1.55 14.15 0.05 12.51\\n'\n",
      " '1.6 14.13 0.05 11.48\\n'\n",
      " '1.65 14.1 0.04 10.54\\n'\n",
      " '1.7 14.07 0.04 9.68\\n'\n",
      " '1.75 14.04 0.03 8.9\\n'\n",
      " '1.8 14.02 0.03 8.19\\n'\n",
      " '1.85 13.99 0.02 7.53\\n'\n",
      " '1.9 13.96 0.02 6.94\\n'\n",
      " '1.95 13.93 0.02 6.38\\n'\n",
      " '2.0 13.9 0.01 5.87\\n'\n",
      " '2.05 13.87 0.01 5.4\\n'\n",
      " '2.1 13.84 0.01 4.96\\n'\n",
      " '2.15 13.81 0.01 4.55\\n'\n",
      " '2.2 13.78 0.0 4.16\\n'\n",
      " '2.25 13.75 0.0 3.8\\n'\n",
      " '2.3 13.72 -0.0 3.46\\n'\n",
      " '2.35 13.69 -0.0 3.')\n"
     ]
    }
   ],
   "source": [
    "output = \"\"\n",
    "for elem in data2:\n",
    "    output += \" \".join(elem)\n",
    "    output += '\\n'\n",
    "\n",
    "f = open(\"coords.dat\", 'w')\n",
    "f.write(output)\n",
    "\n",
    "    \n",
    "#output = str(data2)\n",
    "pprint(output[:1000])"
   ]
  },
  {
   "cell_type": "code",
   "execution_count": 30,
   "metadata": {},
   "outputs": [
    {
     "name": "stdout",
     "output_type": "stream",
     "text": [
      "Help on built-in function floor in module math:\n",
      "\n",
      "floor(x, /)\n",
      "    Return the floor of x as an Integral.\n",
      "    \n",
      "    This is the largest integer <= x.\n",
      "\n",
      "Help on built-in function round in module builtins:\n",
      "\n",
      "round(number, ndigits=None)\n",
      "    Round a number to a given precision in decimal digits.\n",
      "    \n",
      "    The return value is an integer if ndigits is omitted or None.  Otherwise\n",
      "    the return value has the same type as the number.  ndigits may be negative.\n",
      "\n",
      "2\n",
      "2\n",
      "3\n"
     ]
    }
   ],
   "source": [
    "import math\n",
    "\n",
    "help(math.floor)\n",
    "help(round)\n",
    "\n",
    "print(round(2.4))\n",
    "print(round(2.5))\n",
    "print(round(2.6))"
   ]
  }
 ],
 "metadata": {
  "kernelspec": {
   "display_name": "Python [conda env:root]",
   "language": "python",
   "name": "conda-root-py"
  },
  "language_info": {
   "codemirror_mode": {
    "name": "ipython",
    "version": 3
   },
   "file_extension": ".py",
   "mimetype": "text/x-python",
   "name": "python",
   "nbconvert_exporter": "python",
   "pygments_lexer": "ipython3",
   "version": "3.7.9"
  }
 },
 "nbformat": 4,
 "nbformat_minor": 4
}
